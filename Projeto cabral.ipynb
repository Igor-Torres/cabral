{
 "cells": [
  {
   "cell_type": "code",
   "execution_count": 1,
   "id": "0e615abb",
   "metadata": {},
   "outputs": [],
   "source": [
    "import numpy as np\n",
    " "
   ]
  },
  {
   "cell_type": "code",
   "execution_count": 62,
   "id": "f6599ef8",
   "metadata": {},
   "outputs": [],
   "source": [
    "def valor_contrato(n):\n",
    "    v=[]\n",
    "    for i in range (n+1):\n",
    "        v.append(1000 + 30 * (n-i) - 30 * i)\n",
    "    return v    \n",
    "        "
   ]
  },
  {
   "cell_type": "code",
   "execution_count": 63,
   "id": "aa54c67a",
   "metadata": {},
   "outputs": [
    {
     "data": {
      "text/plain": [
       "[1150, 1090, 1030, 970, 910, 850]"
      ]
     },
     "execution_count": 63,
     "metadata": {},
     "output_type": "execute_result"
    }
   ],
   "source": [
    "valor_contrato(5) #comparando com cálculos feitos a mão"
   ]
  },
  {
   "cell_type": "code",
   "execution_count": 64,
   "id": "cebcf00f",
   "metadata": {},
   "outputs": [],
   "source": [
    "def recurssao_contrato(n):\n",
    "    v=valor_contrato(n+1)\n",
    "    print(v)\n",
    "    v_new=[]\n",
    "    for i in range(n+1):\n",
    "        v_i=v[i]-30\n",
    "        v_new.append(v_i)\n",
    "    return v_new"
   ]
  },
  {
   "cell_type": "code",
   "execution_count": 69,
   "id": "1cd3dd50",
   "metadata": {},
   "outputs": [
    {
     "name": "stdout",
     "output_type": "stream",
     "text": [
      "[1150, 1090, 1030, 970, 910, 850]\n"
     ]
    },
    {
     "data": {
      "text/plain": [
       "[1120, 1060, 1000, 940, 880]"
      ]
     },
     "execution_count": 69,
     "metadata": {},
     "output_type": "execute_result"
    }
   ],
   "source": [
    "recurssao_contrato(4) #comparando com cálculos feitos a mão"
   ]
  },
  {
   "cell_type": "code",
   "execution_count": 66,
   "id": "8a6b538a",
   "metadata": {},
   "outputs": [],
   "source": [
    "def valor_juros(n):\n",
    "    r=[]\n",
    "    for i in range (n+1):\n",
    "        r.append(0.01 * (n/(n+1)) + 0.002 * (30-i) - 0.002 * (i))\n",
    "    return r"
   ]
  },
  {
   "cell_type": "code",
   "execution_count": 71,
   "id": "1c297b76",
   "metadata": {},
   "outputs": [
    {
     "name": "stdout",
     "output_type": "stream",
     "text": [
      "[1150, 1090, 1030, 970, 910, 850]\n",
      "[1120, 1060, 1000, 940, 880] [1150, 1090, 1030, 970, 910, 850]\n",
      "[0.068, 0.064, 0.06, 0.056, 0.052000000000000005]\n",
      "1.0340909090909092\n",
      "0.9659090909090909\n",
      "0.052000000000000005\n",
      "Existe arbitragem no tempo 5\n"
     ]
    }
   ],
   "source": [
    "for i in range (5,4,-1):\n",
    "    futuro = valor_contrato(i)\n",
    "    atual = recurssao_contrato(i-1)\n",
    "    print(atual , futuro)\n",
    "    r= valor_juros(i-1)\n",
    "    print (r)\n",
    "    up = futuro[i-1] / atual[i-1]\n",
    "    print (up)\n",
    "    down = futuro[i] / atual[i-1]\n",
    "    print (down)\n",
    "    r_i=r[i-1]\n",
    "    print (r_i)\n",
    "    if not down < (r_i + 1) < up:\n",
    "        print ('Existe arbitragem no tempo '+str(i))"
   ]
  },
  {
   "cell_type": "code",
   "execution_count": null,
   "id": "667e1470",
   "metadata": {},
   "outputs": [],
   "source": []
  }
 ],
 "metadata": {
  "kernelspec": {
   "display_name": "Python 3",
   "language": "python",
   "name": "python3"
  },
  "language_info": {
   "codemirror_mode": {
    "name": "ipython",
    "version": 3
   },
   "file_extension": ".py",
   "mimetype": "text/x-python",
   "name": "python",
   "nbconvert_exporter": "python",
   "pygments_lexer": "ipython3",
   "version": "3.8.8"
  }
 },
 "nbformat": 4,
 "nbformat_minor": 5
}
