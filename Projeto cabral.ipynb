{
 "cells": [
  {
   "cell_type": "code",
   "execution_count": 48,
   "id": "0e615abb",
   "metadata": {},
   "outputs": [],
   "source": [
    "import numpy as np"
   ]
  },
  {
   "cell_type": "code",
   "execution_count": 49,
   "id": "f6599ef8",
   "metadata": {},
   "outputs": [],
   "source": [
    "def valor_acao(n):#calcula o valor do contrato no tempo n\n",
    "    v=[]\n",
    "    for i in range (n+1):\n",
    "        v.append(1000 + 30 * (n-i) - 30 * i)\n",
    "    return v          "
   ]
  },
  {
   "cell_type": "code",
   "execution_count": 50,
   "id": "aa54c67a",
   "metadata": {},
   "outputs": [
    {
     "data": {
      "text/plain": [
       "([1150, 1090, 1030, 970, 910, 850], [1120, 1060, 1000, 940, 880])"
      ]
     },
     "execution_count": 50,
     "metadata": {},
     "output_type": "execute_result"
    }
   ],
   "source": [
    "\n",
    "valor_acao(5) , valor_acao(4) #comparando com cálculos feitos a mão\n"
   ]
  },
  {
   "cell_type": "code",
   "execution_count": 51,
   "id": "cebcf00f",
   "metadata": {},
   "outputs": [],
   "source": [
    "def recurssao_acao(v): #recurssão dos valores do contrato v\n",
    "    v_new=[]\n",
    "    for i in range(len(v)-1):\n",
    "        v_i=v[i]-30\n",
    "        v_new.append(v_i)\n",
    "    return v_new"
   ]
  },
  {
   "cell_type": "code",
   "execution_count": 6,
   "id": "1cd3dd50",
   "metadata": {},
   "outputs": [
    {
     "data": {
      "text/plain": [
       "[1120, 1060, 1000, 940, 880]"
      ]
     },
     "execution_count": 6,
     "metadata": {},
     "output_type": "execute_result"
    }
   ],
   "source": [
    "recurssao_contrato([1150, 1090, 1030, 970, 910, 850]) #comparando com cálculos feitos a mão"
   ]
  },
  {
   "cell_type": "code",
   "execution_count": 65,
   "id": "8a6b538a",
   "metadata": {},
   "outputs": [],
   "source": [
    "def valor_juros(j):#calculamos a taxa de juros no tempo n\n",
    "    r=[]\n",
    "    r.append(0.01 * (j/(j+1)) + 0.002)\n",
    "    r.append(0.01 * (j/(j+1)) - 0.002)\n",
    "    if j==0:\n",
    "        r=[0,0]\n",
    "    return r"
   ]
  },
  {
   "cell_type": "code",
   "execution_count": 66,
   "id": "99647465",
   "metadata": {},
   "outputs": [
    {
     "data": {
      "text/plain": [
       "[0.010333333333333333, 0.006333333333333333]"
      ]
     },
     "execution_count": 66,
     "metadata": {},
     "output_type": "execute_result"
    }
   ],
   "source": [
    "valor_juros(5) #testanto os valores "
   ]
  },
  {
   "cell_type": "code",
   "execution_count": 88,
   "id": "667e1470",
   "metadata": {
    "scrolled": true
   },
   "outputs": [],
   "source": [
    "for k in range (30,0,-1):   \n",
    "    futuro = valor_acao(k)\n",
    "    atual = recurssao_acao(futuro)\n",
    "    r= valor_juros(k-1)\n",
    "   \n",
    "    for j in range(len(atual)-1,-1,-1):\n",
    "        \n",
    "        if j==(0): #caso da extremidade onde temos apenas up, logo utilizamos apenas um r \n",
    "            u = futuro[j] / atual[j]\n",
    "            d = futuro[j+1] / atual[j]\n",
    "            assert d < (1+r[0]) and (1+r[0]) < u\n",
    "            \n",
    "        if j==(len(atual)-1): #caso da extremidade onde temos apenas down, logo utilizamos apenas um r\n",
    "            u = futuro[j] / atual[j]\n",
    "            d = futuro[j+1] / atual[j]\n",
    "            assert d < (1+r[1]) and  (1+r[1]) < u\n",
    "            \n",
    "        else: #resto dos casos      \n",
    "            u = futuro[j] / atual[j]\n",
    "            d = futuro[j+1] / atual[j]\n",
    "            assert d < 1+r[0] and 1+r[0] < u and d < (1+r[1]) and  (1+r[1]) < u"
   ]
  },
  {
   "cell_type": "code",
   "execution_count": 60,
   "id": "362a60ca",
   "metadata": {},
   "outputs": [],
   "source": [
    "def create_r(N):\n",
    "    # criar matriz 2 linhas N+1 colunas com 0s\n",
    "    r = [[0 for j in range(N + 1)] for i in range(2)]\n",
    "    for j in range(1, N + 1):\n",
    "        # linha 1 com valores up para qualquer tempo n, representado por colunas j\n",
    "        # linha 2 com valores down\n",
    "        r[0][j] = 0.01 * (j / (j + 1)) + 0.002\n",
    "        r[1][j] = 0.01 * (j / (j + 1)) - 0.002\n",
    "    return r"
   ]
  },
  {
   "cell_type": "code",
   "execution_count": 25,
   "id": "ff9df8db",
   "metadata": {},
   "outputs": [
    {
     "data": {
      "text/plain": [
       "[[0, 0.007, 0.008666666666666666, 0.0095],\n",
       " [0, 0.003, 0.004666666666666666, 0.0055]]"
      ]
     },
     "execution_count": 25,
     "metadata": {},
     "output_type": "execute_result"
    }
   ],
   "source": [
    "create_r(3)"
   ]
  },
  {
   "cell_type": "code",
   "execution_count": null,
   "id": "0ea0a953",
   "metadata": {},
   "outputs": [],
   "source": []
  }
 ],
 "metadata": {
  "kernelspec": {
   "display_name": "Python 3",
   "language": "python",
   "name": "python3"
  },
  "language_info": {
   "codemirror_mode": {
    "name": "ipython",
    "version": 3
   },
   "file_extension": ".py",
   "mimetype": "text/x-python",
   "name": "python",
   "nbconvert_exporter": "python",
   "pygments_lexer": "ipython3",
   "version": "3.8.8"
  }
 },
 "nbformat": 4,
 "nbformat_minor": 5
}
