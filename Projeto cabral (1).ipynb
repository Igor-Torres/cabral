{
 "cells": [
  {
   "cell_type": "code",
   "execution_count": 1,
   "id": "0e615abb",
   "metadata": {},
   "outputs": [],
   "source": [
    "import numpy as np\n",
    "import random as rand"
   ]
  },
  {
   "cell_type": "code",
   "execution_count": 2,
   "id": "f6599ef8",
   "metadata": {},
   "outputs": [],
   "source": [
    "def valor_acao(n):#calcula o valor do contrato no tempo n\n",
    "    v=[]\n",
    "    for i in range (n+1):\n",
    "        v.append(1000 + 30 * (n-i) - 30 * i)\n",
    "    return v          "
   ]
  },
  {
   "cell_type": "code",
   "execution_count": 62,
   "id": "aa54c67a",
   "metadata": {},
   "outputs": [
    {
     "data": {
      "text/plain": [
       "([1150, 1090, 1030, 970, 910, 850], [1120, 1060, 1000, 940, 880], [1000])"
      ]
     },
     "execution_count": 62,
     "metadata": {},
     "output_type": "execute_result"
    }
   ],
   "source": [
    " valor_acao(5) , valor_acao(4) , valor_acao(0) #comparando com cálculos feitos a mão\n"
   ]
  },
  {
   "cell_type": "code",
   "execution_count": 4,
   "id": "cebcf00f",
   "metadata": {},
   "outputs": [],
   "source": [
    "def recurssao_acao(v): #recurssão dos valores do contrato v\n",
    "    v_new=[]\n",
    "    for i in range(len(v)-1):\n",
    "        v_i=v[i]-30\n",
    "        v_new.append(v_i)\n",
    "    return v_new"
   ]
  },
  {
   "cell_type": "code",
   "execution_count": 35,
   "id": "1cd3dd50",
   "metadata": {},
   "outputs": [],
   "source": [
    " assert recurssao_acao(valor_acao(5)) == valor_acao(4)#comparando com cálculos feitos a mão"
   ]
  },
  {
   "cell_type": "code",
   "execution_count": 6,
   "id": "8a6b538a",
   "metadata": {},
   "outputs": [],
   "source": [
    "def valor_juros(j):#calculamos a taxa de juros no tempo n\n",
    "    r=[]\n",
    "    r.append(0.01 * (j/(j+1)) + 0.002)\n",
    "    r.append(0.01 * (j/(j+1)) - 0.002)\n",
    "    if j==0:\n",
    "        r=[0,0]\n",
    "    return r"
   ]
  },
  {
   "cell_type": "code",
   "execution_count": 7,
   "id": "99647465",
   "metadata": {},
   "outputs": [
    {
     "data": {
      "text/plain": [
       "[0.010333333333333333, 0.006333333333333333]"
      ]
     },
     "execution_count": 7,
     "metadata": {},
     "output_type": "execute_result"
    }
   ],
   "source": [
    "valor_juros(5) #testanto os valores "
   ]
  },
  {
   "cell_type": "code",
   "execution_count": 8,
   "id": "667e1470",
   "metadata": {
    "scrolled": true
   },
   "outputs": [],
   "source": [
    " def arbitragem_verific(n):\n",
    "    for k in range (n,0,-1):   \n",
    "        futuro = valor_acao(k)\n",
    "        atual = recurssao_acao(futuro)\n",
    "        r= valor_juros(k-1)\n",
    "\n",
    "        for j in range(len(atual)-1,-1,-1):\n",
    "\n",
    "            if j==(0): #caso da extremidade onde temos apenas up, logo utilizamos apenas um r \n",
    "                u = futuro[j] / atual[j]\n",
    "                d = futuro[j+1] / atual[j]\n",
    "                assert d < (1+r[0]) and (1+r[0]) < u\n",
    "\n",
    "            if j==(len(atual)-1): #caso da extremidade onde temos apenas down, logo utilizamos apenas um r\n",
    "                u = futuro[j] / atual[j]\n",
    "                d = futuro[j+1] / atual[j]\n",
    "                assert d < (1+r[1]) and  (1+r[1]) < u\n",
    "\n",
    "            else: #resto dos casos      \n",
    "                u = futuro[j] / atual[j]\n",
    "                d = futuro[j+1] / atual[j]\n",
    "                assert d < 1+r[0] and 1+r[0] < u and d < (1+r[1]) and  (1+r[1]) < u\n",
    "                "
   ]
  },
  {
   "cell_type": "code",
   "execution_count": 9,
   "id": "bb2e8232",
   "metadata": {},
   "outputs": [],
   "source": [
    "arbitragem_verific(30)"
   ]
  },
  {
   "cell_type": "code",
   "execution_count": 41,
   "id": "349b2cf9",
   "metadata": {},
   "outputs": [],
   "source": [
    "def metodo_montecarlo(S_0, strike, n ): # utilizaremos a media do valor das opções em n caminhos diferentes \n",
    "    max_ways , soma_options, a  = 30000 , 0 , 0 \n",
    "\n",
    "    while a < max_ways:# fazendo caminhos aleatórios para calcularmos valores da opção\n",
    "        discount = 1\n",
    "        r = 0\n",
    "        S = S_0\n",
    "        u , d = (S_0 + 30) / S_0 , (S_0 - 30) / S_0\n",
    "        for i in range (n):\n",
    "            p_neutral= ((1 + r) - d) / (u - d)\n",
    "            q_neutral= 1 - p_neutral\n",
    "            discount = discount/(1+r)\n",
    "            \n",
    "            if rand.random() < p_neutral: # geramos um número aleatório, uma espécie de sorteio para decidir se teremos up ou down no caminho\n",
    "                S , r = S + 30 , 0.01 * (i / (i+1)) + 0.002\n",
    "            \n",
    "            else:\n",
    "                S , r = S - 30 , 0.01 * (i / (i+1)) - 0.002\n",
    "        a += 1\n",
    "        soma_options += discount*(max(0, S - strike)) # escolhemos um call como opção, aqui calculamos o valor dele com o desconto calculado  \n",
    "    return (str('O valor aproximado da opção é: '+str(soma_options / a))) # média do valor das opções    "
   ]
  },
  {
   "cell_type": "code",
   "execution_count": 54,
   "id": "4977368e",
   "metadata": {},
   "outputs": [
    {
     "data": {
      "text/plain": [
       "'O valor aproximado da opção é: 14.887091084916207'"
      ]
     },
     "execution_count": 54,
     "metadata": {},
     "output_type": "execute_result"
    }
   ],
   "source": [
    "metodo_montecarlo(1000, 1400 , 30 )"
   ]
  },
  {
   "cell_type": "code",
   "execution_count": 63,
   "id": "cd7854a9",
   "metadata": {},
   "outputs": [],
   "source": [
    "def metodo_montecarlo_barreira(S_0, strike , barreira , n ): # utilizaremos a media do valor das opções em n caminhos diferentes \n",
    "    max_ways , soma_options, a  = 30000 , 0 , 0 \n",
    "\n",
    "    while a < max_ways:# fazendo caminhos aleatórios para calcularmos valores da opção\n",
    "        discount = 1\n",
    "        r = 0\n",
    "        S = S_0\n",
    "        u , d = (S_0 + 30) / S_0 , (S_0 - 30) / S_0\n",
    "        for i in range (n):\n",
    "            p_neutral= ((1 + r) - d) / (u - d)\n",
    "            q_neutral= 1 - p_neutral\n",
    "            discount = discount/(1+r)\n",
    "            \n",
    "            if rand.random() < p_neutral: # geramos um número aleatório, uma espécie de sorteio para decidir se teremos up ou down no caminho\n",
    "                S , r = S + 30 , 0.01 * (i / (i+1)) + 0.002\n",
    "                if S > Barreira: # Devemos verificar sempre se S ultrapassou a barreira. Se sim, este caminho teve o payoff zerado.\n",
    "                    S=0\n",
    "                    break\n",
    "            \n",
    "            else:\n",
    "                S , r = S - 30 , 0.01 * (i / (i+1)) - 0.002\n",
    "        a += 1\n",
    "        soma_options += discount*(max(0, S - strike)) # escolhemos um call como opção, aqui calculamos o valor dele com o desconto calculado  \n",
    "    return (str('O valor aproximado da opção é: '+str(soma_options / a))) # média do valor das opções    "
   ]
  },
  {
   "cell_type": "code",
   "execution_count": 51,
   "id": "ff7941a1",
   "metadata": {},
   "outputs": [],
   "source": [
    "def metodo_montecarlo_lookback(S_0, n ): # utilizaremos a media do valor das opções em n caminhos diferentes \n",
    "    max_ways , soma_options, a  = 90000 , 0 , 0 \n",
    "\n",
    "    while a < max_ways:# fazendo caminhos aleatórios para calcularmos valores da opção\n",
    "        discount = 1\n",
    "        r = 0\n",
    "        S = S_0\n",
    "        S_max = S_0\n",
    "        S_min = 0\n",
    "        u , d = (S_0 + 30) / S_0 , (S_0 - 30) / S_0\n",
    "        for i in range (n):\n",
    "            p_neutral= ((1 + r) - d) / (u - d)\n",
    "            q_neutral= 1 - p_neutral\n",
    "            discount = discount/(1+r)\n",
    "            \n",
    "            if rand.random() < p_neutral: # geramos um número aleatório, uma espécie de sorteio para decidir se teremos up ou down no caminho\n",
    "                S , r = S + 30 , 0.01 * (i / (i+1)) + 0.002#só é possível termos um valor máximo caso ocorra um down, por isso verificamos o ,máximo neste caso\n",
    "                if S > S_max:\n",
    "                    S_max = S\n",
    "            \n",
    "            else:\n",
    "                S , r = S - 30 , 0.01 * (i / (i+1)) - 0.002 #só é possível termos um valor mínimo caso ocorra um down, por isso verificamos o mínimo neste caso\n",
    "                if S < S_min:\n",
    "                    S_min = S\n",
    "        a += 1\n",
    "        soma_options += discount*(max(0, S_max - S_min)) # escolhemos um lookback como opção, aqui calculamos o valor dele com o desconto calculado  \n",
    "    return (str('O valor aproximado da opção é: '+str(soma_options / a))) # média do valor das opções    "
   ]
  },
  {
   "cell_type": "code",
   "execution_count": 53,
   "id": "0a31d28b",
   "metadata": {},
   "outputs": [
    {
     "data": {
      "text/plain": [
       "'O valor aproximado da opção é: 994.8652730879045'"
      ]
     },
     "execution_count": 53,
     "metadata": {},
     "output_type": "execute_result"
    }
   ],
   "source": [
    "metodo_montecarlo_lookback(1000, 30)"
   ]
  },
  {
   "cell_type": "code",
   "execution_count": null,
   "id": "b865f15f",
   "metadata": {},
   "outputs": [],
   "source": []
  }
 ],
 "metadata": {
  "kernelspec": {
   "display_name": "Python 3",
   "language": "python",
   "name": "python3"
  },
  "language_info": {
   "codemirror_mode": {
    "name": "ipython",
    "version": 3
   },
   "file_extension": ".py",
   "mimetype": "text/x-python",
   "name": "python",
   "nbconvert_exporter": "python",
   "pygments_lexer": "ipython3",
   "version": "3.8.8"
  }
 },
 "nbformat": 4,
 "nbformat_minor": 5
}
