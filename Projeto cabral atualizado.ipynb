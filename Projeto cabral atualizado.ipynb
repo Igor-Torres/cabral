{
 "cells": [
  {
   "cell_type": "code",
   "execution_count": 2,
   "id": "0e615abb",
   "metadata": {},
   "outputs": [],
   "source": [
    "import numpy as np\n",
    " "
   ]
  },
  {
   "cell_type": "code",
   "execution_count": 3,
   "id": "f6599ef8",
   "metadata": {},
   "outputs": [],
   "source": [
    "def valor_contrato(n):#calcula o valor do contrato no tempo n\n",
    "    v=[]\n",
    "    for i in range (n+1):\n",
    "        v.append(1000 + 30 * (n-i) - 30 * i)\n",
    "    return v    \n",
    "        "
   ]
  },
  {
   "cell_type": "code",
   "execution_count": 4,
   "id": "aa54c67a",
   "metadata": {},
   "outputs": [
    {
     "data": {
      "text/plain": [
       "[1150, 1090, 1030, 970, 910, 850]"
      ]
     },
     "execution_count": 4,
     "metadata": {},
     "output_type": "execute_result"
    }
   ],
   "source": [
    "valor_contrato(5) #comparando com cálculos feitos a mão"
   ]
  },
  {
   "cell_type": "code",
   "execution_count": 21,
   "id": "cebcf00f",
   "metadata": {},
   "outputs": [],
   "source": [
    "def recurssao_contrato(v): #recurssão dos valores do contrato v\n",
    "    v_new=[]\n",
    "    for i in range(len(v)-1):\n",
    "        v_i=v[i]-30\n",
    "        v_new.append(v_i)\n",
    "    return v_new"
   ]
  },
  {
   "cell_type": "code",
   "execution_count": 22,
   "id": "1cd3dd50",
   "metadata": {},
   "outputs": [
    {
     "data": {
      "text/plain": [
       "[1120, 1060, 1000, 940, 880]"
      ]
     },
     "execution_count": 22,
     "metadata": {},
     "output_type": "execute_result"
    }
   ],
   "source": [
    "recurssao_contrato([1150, 1090, 1030, 970, 910, 850]) #comparando com cálculos feitos a mão"
   ]
  },
  {
   "cell_type": "code",
   "execution_count": 56,
   "id": "8a6b538a",
   "metadata": {},
   "outputs": [],
   "source": [
    "def valor_juros(n):#calculamos a taxa de juros no tempo n\n",
    "    r=[]\n",
    "    for i in range (n,-1,-1):\n",
    "        r.append(0.01 * (n/(n+1)) + 0.002 * (i) - 0.002 * (n-i))\n",
    "    return r"
   ]
  },
  {
   "cell_type": "code",
   "execution_count": 53,
   "id": "99647465",
   "metadata": {},
   "outputs": [
    {
     "name": "stdout",
     "output_type": "stream",
     "text": [
      "1\n",
      "0\n"
     ]
    },
    {
     "data": {
      "text/plain": [
       "[0.007, 0.003]"
      ]
     },
     "execution_count": 53,
     "metadata": {},
     "output_type": "execute_result"
    }
   ],
   "source": [
    "valor_juros(1)"
   ]
  },
  {
   "cell_type": "code",
   "execution_count": 54,
   "id": "1c297b76",
   "metadata": {
    "scrolled": true
   },
   "outputs": [
    {
     "name": "stdout",
     "output_type": "stream",
     "text": [
      "4\n",
      "3\n",
      "2\n",
      "1\n",
      "0\n"
     ]
    },
    {
     "ename": "IndexError",
     "evalue": "list index out of range",
     "output_type": "error",
     "traceback": [
      "\u001b[1;31m---------------------------------------------------------------------------\u001b[0m",
      "\u001b[1;31mIndexError\u001b[0m                                Traceback (most recent call last)",
      "\u001b[1;32m<ipython-input-54-089a8ed548e5>\u001b[0m in \u001b[0;36m<module>\u001b[1;34m\u001b[0m\n\u001b[0;32m      5\u001b[0m     \u001b[0mr\u001b[0m\u001b[1;33m=\u001b[0m \u001b[0mvalor_juros\u001b[0m\u001b[1;33m(\u001b[0m\u001b[0mk\u001b[0m\u001b[1;33m-\u001b[0m\u001b[1;36m1\u001b[0m\u001b[1;33m)\u001b[0m\u001b[1;33m\u001b[0m\u001b[1;33m\u001b[0m\u001b[0m\n\u001b[0;32m      6\u001b[0m     \u001b[1;32mfor\u001b[0m \u001b[0mj\u001b[0m \u001b[1;32min\u001b[0m \u001b[0mrange\u001b[0m\u001b[1;33m(\u001b[0m\u001b[0mlen\u001b[0m\u001b[1;33m(\u001b[0m\u001b[0matual\u001b[0m\u001b[1;33m)\u001b[0m\u001b[1;33m,\u001b[0m\u001b[1;36m0\u001b[0m\u001b[1;33m,\u001b[0m\u001b[1;33m-\u001b[0m\u001b[1;36m1\u001b[0m\u001b[1;33m)\u001b[0m\u001b[1;33m:\u001b[0m\u001b[1;33m\u001b[0m\u001b[1;33m\u001b[0m\u001b[0m\n\u001b[1;32m----> 7\u001b[1;33m         \u001b[0mup\u001b[0m \u001b[1;33m=\u001b[0m \u001b[0mfuturo\u001b[0m\u001b[1;33m[\u001b[0m\u001b[0mj\u001b[0m\u001b[1;33m]\u001b[0m \u001b[1;33m/\u001b[0m \u001b[0matual\u001b[0m\u001b[1;33m[\u001b[0m\u001b[0mj\u001b[0m\u001b[1;33m]\u001b[0m\u001b[1;33m\u001b[0m\u001b[1;33m\u001b[0m\u001b[0m\n\u001b[0m\u001b[0;32m      8\u001b[0m         \u001b[0mdown\u001b[0m \u001b[1;33m=\u001b[0m \u001b[0mfuturo\u001b[0m\u001b[1;33m[\u001b[0m\u001b[0mj\u001b[0m\u001b[1;33m+\u001b[0m\u001b[1;36m1\u001b[0m\u001b[1;33m]\u001b[0m \u001b[1;33m/\u001b[0m \u001b[0matual\u001b[0m\u001b[1;33m[\u001b[0m\u001b[0mj\u001b[0m\u001b[1;33m]\u001b[0m\u001b[1;33m\u001b[0m\u001b[1;33m\u001b[0m\u001b[0m\n\u001b[0;32m      9\u001b[0m         \u001b[0mr_i\u001b[0m\u001b[1;33m=\u001b[0m\u001b[0mr\u001b[0m\u001b[1;33m[\u001b[0m\u001b[0mj\u001b[0m\u001b[1;33m]\u001b[0m\u001b[1;33m\u001b[0m\u001b[1;33m\u001b[0m\u001b[0m\n",
      "\u001b[1;31mIndexError\u001b[0m: list index out of range"
     ]
    }
   ],
   "source": [
    "for k in range (5,0,-1):\n",
    "    \n",
    "    futuro = valor_contrato(k)\n",
    "    atual = recurssao_contrato(futuro)\n",
    "    r= valor_juros(k-1)\n",
    "    for j in range(len(atual),0,-1):\n",
    "        up = futuro[j] / atual[j]\n",
    "        down = futuro[j+1] / atual[j]\n",
    "        r_i=r[j]\n",
    "        if not down < (r_i + 1) < up:\n",
    "            print ('Existe arbitragem no tempo '+str(k))"
   ]
  },
  {
   "cell_type": "code",
   "execution_count": 58,
   "id": "667e1470",
   "metadata": {},
   "outputs": [
    {
     "name": "stdout",
     "output_type": "stream",
     "text": [
      "[1150, 1090, 1030, 970, 910, 850] [1000] [0.016, 0.012, 0.008, 0.004, 0.0]\n",
      "[1120, 1060, 1000, 940, 880] [1120, 1060, 1000, 940, 880] [0.0135, 0.0095, 0.0055, 0.0014999999999999996]\n",
      "[1090, 1030, 970, 910] [1090, 1030, 970, 910] [0.010666666666666666, 0.006666666666666666, 0.002666666666666666]\n",
      "[1060, 1000, 940] [1060, 1000, 940] [0.007, 0.003]\n",
      "[1030, 970] [1030, 970] [0.0]\n"
     ]
    }
   ],
   "source": [
    "for k in range (5,0,-1):   \n",
    "    futuro , atual , r = valor_contrato(k) , recurssao_contrato(futuro) , valor_juros(k-1)\n",
    "    print(futuro , atual , r)"
   ]
  },
  {
   "cell_type": "code",
   "execution_count": null,
   "id": "362a60ca",
   "metadata": {},
   "outputs": [],
   "source": []
  }
 ],
 "metadata": {
  "kernelspec": {
   "display_name": "Python 3",
   "language": "python",
   "name": "python3"
  },
  "language_info": {
   "codemirror_mode": {
    "name": "ipython",
    "version": 3
   },
   "file_extension": ".py",
   "mimetype": "text/x-python",
   "name": "python",
   "nbconvert_exporter": "python",
   "pygments_lexer": "ipython3",
   "version": "3.8.8"
  }
 },
 "nbformat": 4,
 "nbformat_minor": 5
}
